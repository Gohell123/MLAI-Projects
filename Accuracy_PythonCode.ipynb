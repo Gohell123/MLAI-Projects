{
 "cells": [
  {
   "cell_type": "code",
   "execution_count": 2,
   "metadata": {},
   "outputs": [],
   "source": [
    "import os\n",
    "import pandas as pd\n",
    "import numpy as np\n",
    "import matplotlib.pyplot as plt\n",
    "from scipy.stats import pearsonr,spearmanr\n",
    "from sklearn.linear_model import LogisticRegression,LogisticRegressionCV\n",
    "from sklearn  import model_selection\n",
    "from sklearn.metrics import f1_score,confusion_matrix,accuracy_score,classification_report\n",
    "\n",
    "import sklearn\n",
    "from sklearn.naive_bayes import MultinomialNB\n",
    "from sklearn.naive_bayes import GaussianNB\n",
    "from sklearn.naive_bayes import BernoulliNB\n",
    "from sklearn.svm import SVC\n",
    "from sklearn.neural_network import MLPClassifier\n",
    "from sklearn.ensemble import AdaBoostClassifier\n",
    "from sklearn.tree import DecisionTreeClassifier\n",
    "from sklearn.ensemble import RandomForestClassifier\n",
    "from sklearn.ensemble import GradientBoostingClassifier\n",
    "from sklearn.linear_model import LogisticRegression\n",
    "from sklearn.model_selection import GridSearchCV\n",
    "from sklearn.metrics import f1_score, confusion_matrix\n",
    "\n",
    "pd.options.display.max_columns = None\n",
    "pd.options.display.float_format = '{:.2f}'.format\n",
    "%matplotlib inline"
   ]
  },
  {
   "cell_type": "code",
   "execution_count": 3,
   "metadata": {},
   "outputs": [
    {
     "data": {
      "text/plain": [
       "'C:\\\\Users\\\\719475\\\\Desktop\\\\Hackathon'"
      ]
     },
     "execution_count": 3,
     "metadata": {},
     "output_type": "execute_result"
    }
   ],
   "source": [
    "os.getcwd()"
   ]
  },
  {
   "cell_type": "code",
   "execution_count": 4,
   "metadata": {},
   "outputs": [],
   "source": [
    "#Loading the train data\n",
    "train = pd.read_csv('train.csv')"
   ]
  },
  {
   "cell_type": "code",
   "execution_count": 5,
   "metadata": {},
   "outputs": [],
   "source": [
    "#Loading the test data\n",
    "test = pd.read_csv('test.csv')"
   ]
  },
  {
   "cell_type": "code",
   "execution_count": 6,
   "metadata": {},
   "outputs": [
    {
     "data": {
      "text/plain": [
       "(116058, 29)"
      ]
     },
     "execution_count": 6,
     "metadata": {},
     "output_type": "execute_result"
    }
   ],
   "source": [
    "#Shape of training data\n",
    "train.shape"
   ]
  },
  {
   "cell_type": "code",
   "execution_count": 7,
   "metadata": {},
   "outputs": [
    {
     "data": {
      "text/plain": [
       "(35866, 28)"
      ]
     },
     "execution_count": 7,
     "metadata": {},
     "output_type": "execute_result"
    }
   ],
   "source": [
    "#Shape of test data\n",
    "test.shape"
   ]
  },
  {
   "cell_type": "code",
   "execution_count": 7,
   "metadata": {},
   "outputs": [
    {
     "data": {
      "text/plain": [
       "loan_id                     0\n",
       "source                      0\n",
       "financial_institution       0\n",
       "interest_rate               0\n",
       "unpaid_principal_bal        0\n",
       "loan_term                   0\n",
       "origination_date            0\n",
       "first_payment_date          0\n",
       "loan_to_value               0\n",
       "number_of_borrowers         0\n",
       "debt_to_income_ratio        0\n",
       "borrower_credit_score       0\n",
       "loan_purpose                0\n",
       "insurance_percent           0\n",
       "co-borrower_credit_score    0\n",
       "insurance_type              0\n",
       "m1                          0\n",
       "m2                          0\n",
       "m3                          0\n",
       "m4                          0\n",
       "m5                          0\n",
       "m6                          0\n",
       "m7                          0\n",
       "m8                          0\n",
       "m9                          0\n",
       "m10                         0\n",
       "m11                         0\n",
       "m12                         0\n",
       "m13                         0\n",
       "dtype: int64"
      ]
     },
     "execution_count": 7,
     "metadata": {},
     "output_type": "execute_result"
    }
   ],
   "source": [
    "#Checking for missing values - No missing values found\n",
    "train.isnull().sum()"
   ]
  },
  {
   "cell_type": "code",
   "execution_count": 8,
   "metadata": {},
   "outputs": [],
   "source": [
    "train_trans=train.describe().T"
   ]
  },
  {
   "cell_type": "code",
   "execution_count": 9,
   "metadata": {},
   "outputs": [],
   "source": [
    "#Getting the 1 & 99 percentile of the data for each column\n",
    "train_trans['0.01']=train.quantile(0.01)\n",
    "train_trans['0.99']=train.quantile(0.99)"
   ]
  },
  {
   "cell_type": "code",
   "execution_count": 10,
   "metadata": {},
   "outputs": [],
   "source": [
    "#More precisely detecting the anomalies in the data\n",
    "#(Mean-std*3) & (mean+std*3) that is 97.6 percentile\n",
    "train_trans['cut_off'] = np.std(train) *3\n",
    "train_trans['lower_limit']=train_trans['mean']-train_trans['cut_off']\n",
    "train_trans['upper_limit']=train_trans['mean']+train_trans['cut_off']"
   ]
  },
  {
   "cell_type": "code",
   "execution_count": 11,
   "metadata": {},
   "outputs": [
    {
     "data": {
      "text/html": [
       "<div>\n",
       "<style scoped>\n",
       "    .dataframe tbody tr th:only-of-type {\n",
       "        vertical-align: middle;\n",
       "    }\n",
       "\n",
       "    .dataframe tbody tr th {\n",
       "        vertical-align: top;\n",
       "    }\n",
       "\n",
       "    .dataframe thead th {\n",
       "        text-align: right;\n",
       "    }\n",
       "</style>\n",
       "<table border=\"1\" class=\"dataframe\">\n",
       "  <thead>\n",
       "    <tr style=\"text-align: right;\">\n",
       "      <th></th>\n",
       "      <th>count</th>\n",
       "      <th>mean</th>\n",
       "      <th>std</th>\n",
       "      <th>min</th>\n",
       "      <th>25%</th>\n",
       "      <th>50%</th>\n",
       "      <th>75%</th>\n",
       "      <th>max</th>\n",
       "      <th>0.01</th>\n",
       "      <th>0.99</th>\n",
       "      <th>cut_off</th>\n",
       "      <th>lower_limit</th>\n",
       "      <th>upper_limit</th>\n",
       "    </tr>\n",
       "  </thead>\n",
       "  <tbody>\n",
       "    <tr>\n",
       "      <th>loan_id</th>\n",
       "      <td>116058.00</td>\n",
       "      <td>549415526471.17</td>\n",
       "      <td>259756028059.07</td>\n",
       "      <td>100000853384.00</td>\n",
       "      <td>324465557294.75</td>\n",
       "      <td>548623903315.00</td>\n",
       "      <td>774303420466.50</td>\n",
       "      <td>999997075153.00</td>\n",
       "      <td>108296327292.67</td>\n",
       "      <td>990814234719.20</td>\n",
       "      <td>779264726934.45</td>\n",
       "      <td>-229849200463.28</td>\n",
       "      <td>1328680253405.62</td>\n",
       "    </tr>\n",
       "    <tr>\n",
       "      <th>interest_rate</th>\n",
       "      <td>116058.00</td>\n",
       "      <td>3.87</td>\n",
       "      <td>0.46</td>\n",
       "      <td>2.25</td>\n",
       "      <td>3.50</td>\n",
       "      <td>3.88</td>\n",
       "      <td>4.12</td>\n",
       "      <td>6.75</td>\n",
       "      <td>2.88</td>\n",
       "      <td>5.00</td>\n",
       "      <td>1.38</td>\n",
       "      <td>2.49</td>\n",
       "      <td>5.25</td>\n",
       "    </tr>\n",
       "    <tr>\n",
       "      <th>unpaid_principal_bal</th>\n",
       "      <td>116058.00</td>\n",
       "      <td>208226.22</td>\n",
       "      <td>114685.10</td>\n",
       "      <td>11000.00</td>\n",
       "      <td>120000.00</td>\n",
       "      <td>183000.00</td>\n",
       "      <td>278000.00</td>\n",
       "      <td>1200000.00</td>\n",
       "      <td>43000.00</td>\n",
       "      <td>554000.00</td>\n",
       "      <td>344053.82</td>\n",
       "      <td>-135827.59</td>\n",
       "      <td>552280.04</td>\n",
       "    </tr>\n",
       "    <tr>\n",
       "      <th>loan_term</th>\n",
       "      <td>116058.00</td>\n",
       "      <td>292.28</td>\n",
       "      <td>89.76</td>\n",
       "      <td>60.00</td>\n",
       "      <td>180.00</td>\n",
       "      <td>360.00</td>\n",
       "      <td>360.00</td>\n",
       "      <td>360.00</td>\n",
       "      <td>120.00</td>\n",
       "      <td>360.00</td>\n",
       "      <td>269.29</td>\n",
       "      <td>22.99</td>\n",
       "      <td>561.57</td>\n",
       "    </tr>\n",
       "    <tr>\n",
       "      <th>loan_to_value</th>\n",
       "      <td>116058.00</td>\n",
       "      <td>67.43</td>\n",
       "      <td>17.29</td>\n",
       "      <td>6.00</td>\n",
       "      <td>57.00</td>\n",
       "      <td>72.00</td>\n",
       "      <td>80.00</td>\n",
       "      <td>97.00</td>\n",
       "      <td>21.00</td>\n",
       "      <td>95.00</td>\n",
       "      <td>51.87</td>\n",
       "      <td>15.56</td>\n",
       "      <td>119.31</td>\n",
       "    </tr>\n",
       "    <tr>\n",
       "      <th>number_of_borrowers</th>\n",
       "      <td>116058.00</td>\n",
       "      <td>1.59</td>\n",
       "      <td>0.49</td>\n",
       "      <td>1.00</td>\n",
       "      <td>1.00</td>\n",
       "      <td>2.00</td>\n",
       "      <td>2.00</td>\n",
       "      <td>2.00</td>\n",
       "      <td>1.00</td>\n",
       "      <td>2.00</td>\n",
       "      <td>1.47</td>\n",
       "      <td>0.12</td>\n",
       "      <td>3.07</td>\n",
       "    </tr>\n",
       "    <tr>\n",
       "      <th>debt_to_income_ratio</th>\n",
       "      <td>116058.00</td>\n",
       "      <td>30.74</td>\n",
       "      <td>9.73</td>\n",
       "      <td>1.00</td>\n",
       "      <td>23.00</td>\n",
       "      <td>31.00</td>\n",
       "      <td>39.00</td>\n",
       "      <td>64.00</td>\n",
       "      <td>10.00</td>\n",
       "      <td>49.00</td>\n",
       "      <td>29.19</td>\n",
       "      <td>1.55</td>\n",
       "      <td>59.93</td>\n",
       "    </tr>\n",
       "    <tr>\n",
       "      <th>borrower_credit_score</th>\n",
       "      <td>116058.00</td>\n",
       "      <td>769.93</td>\n",
       "      <td>42.21</td>\n",
       "      <td>0.00</td>\n",
       "      <td>751.00</td>\n",
       "      <td>782.00</td>\n",
       "      <td>800.00</td>\n",
       "      <td>840.00</td>\n",
       "      <td>650.00</td>\n",
       "      <td>820.00</td>\n",
       "      <td>126.63</td>\n",
       "      <td>643.30</td>\n",
       "      <td>896.56</td>\n",
       "    </tr>\n",
       "    <tr>\n",
       "      <th>insurance_percent</th>\n",
       "      <td>116058.00</td>\n",
       "      <td>2.79</td>\n",
       "      <td>8.10</td>\n",
       "      <td>0.00</td>\n",
       "      <td>0.00</td>\n",
       "      <td>0.00</td>\n",
       "      <td>0.00</td>\n",
       "      <td>40.00</td>\n",
       "      <td>0.00</td>\n",
       "      <td>30.00</td>\n",
       "      <td>24.29</td>\n",
       "      <td>-21.50</td>\n",
       "      <td>27.08</td>\n",
       "    </tr>\n",
       "    <tr>\n",
       "      <th>co-borrower_credit_score</th>\n",
       "      <td>116058.00</td>\n",
       "      <td>459.61</td>\n",
       "      <td>381.95</td>\n",
       "      <td>0.00</td>\n",
       "      <td>0.00</td>\n",
       "      <td>740.00</td>\n",
       "      <td>791.00</td>\n",
       "      <td>836.00</td>\n",
       "      <td>0.00</td>\n",
       "      <td>819.00</td>\n",
       "      <td>1145.84</td>\n",
       "      <td>-686.22</td>\n",
       "      <td>1605.45</td>\n",
       "    </tr>\n",
       "    <tr>\n",
       "      <th>insurance_type</th>\n",
       "      <td>116058.00</td>\n",
       "      <td>0.00</td>\n",
       "      <td>0.06</td>\n",
       "      <td>0.00</td>\n",
       "      <td>0.00</td>\n",
       "      <td>0.00</td>\n",
       "      <td>0.00</td>\n",
       "      <td>1.00</td>\n",
       "      <td>0.00</td>\n",
       "      <td>0.00</td>\n",
       "      <td>0.17</td>\n",
       "      <td>-0.17</td>\n",
       "      <td>0.17</td>\n",
       "    </tr>\n",
       "    <tr>\n",
       "      <th>m1</th>\n",
       "      <td>116058.00</td>\n",
       "      <td>0.00</td>\n",
       "      <td>0.06</td>\n",
       "      <td>0.00</td>\n",
       "      <td>0.00</td>\n",
       "      <td>0.00</td>\n",
       "      <td>0.00</td>\n",
       "      <td>3.00</td>\n",
       "      <td>0.00</td>\n",
       "      <td>0.00</td>\n",
       "      <td>0.19</td>\n",
       "      <td>-0.19</td>\n",
       "      <td>0.19</td>\n",
       "    </tr>\n",
       "    <tr>\n",
       "      <th>m2</th>\n",
       "      <td>116058.00</td>\n",
       "      <td>0.00</td>\n",
       "      <td>0.05</td>\n",
       "      <td>0.00</td>\n",
       "      <td>0.00</td>\n",
       "      <td>0.00</td>\n",
       "      <td>0.00</td>\n",
       "      <td>4.00</td>\n",
       "      <td>0.00</td>\n",
       "      <td>0.00</td>\n",
       "      <td>0.15</td>\n",
       "      <td>-0.15</td>\n",
       "      <td>0.16</td>\n",
       "    </tr>\n",
       "    <tr>\n",
       "      <th>m3</th>\n",
       "      <td>116058.00</td>\n",
       "      <td>0.00</td>\n",
       "      <td>0.06</td>\n",
       "      <td>0.00</td>\n",
       "      <td>0.00</td>\n",
       "      <td>0.00</td>\n",
       "      <td>0.00</td>\n",
       "      <td>5.00</td>\n",
       "      <td>0.00</td>\n",
       "      <td>0.00</td>\n",
       "      <td>0.17</td>\n",
       "      <td>-0.16</td>\n",
       "      <td>0.17</td>\n",
       "    </tr>\n",
       "    <tr>\n",
       "      <th>m4</th>\n",
       "      <td>116058.00</td>\n",
       "      <td>0.00</td>\n",
       "      <td>0.06</td>\n",
       "      <td>0.00</td>\n",
       "      <td>0.00</td>\n",
       "      <td>0.00</td>\n",
       "      <td>0.00</td>\n",
       "      <td>6.00</td>\n",
       "      <td>0.00</td>\n",
       "      <td>0.00</td>\n",
       "      <td>0.19</td>\n",
       "      <td>-0.18</td>\n",
       "      <td>0.19</td>\n",
       "    </tr>\n",
       "    <tr>\n",
       "      <th>m5</th>\n",
       "      <td>116058.00</td>\n",
       "      <td>0.00</td>\n",
       "      <td>0.08</td>\n",
       "      <td>0.00</td>\n",
       "      <td>0.00</td>\n",
       "      <td>0.00</td>\n",
       "      <td>0.00</td>\n",
       "      <td>7.00</td>\n",
       "      <td>0.00</td>\n",
       "      <td>0.00</td>\n",
       "      <td>0.25</td>\n",
       "      <td>-0.24</td>\n",
       "      <td>0.25</td>\n",
       "    </tr>\n",
       "    <tr>\n",
       "      <th>m6</th>\n",
       "      <td>116058.00</td>\n",
       "      <td>0.00</td>\n",
       "      <td>0.09</td>\n",
       "      <td>0.00</td>\n",
       "      <td>0.00</td>\n",
       "      <td>0.00</td>\n",
       "      <td>0.00</td>\n",
       "      <td>8.00</td>\n",
       "      <td>0.00</td>\n",
       "      <td>0.00</td>\n",
       "      <td>0.26</td>\n",
       "      <td>-0.26</td>\n",
       "      <td>0.27</td>\n",
       "    </tr>\n",
       "    <tr>\n",
       "      <th>m7</th>\n",
       "      <td>116058.00</td>\n",
       "      <td>0.00</td>\n",
       "      <td>0.10</td>\n",
       "      <td>0.00</td>\n",
       "      <td>0.00</td>\n",
       "      <td>0.00</td>\n",
       "      <td>0.00</td>\n",
       "      <td>9.00</td>\n",
       "      <td>0.00</td>\n",
       "      <td>0.00</td>\n",
       "      <td>0.30</td>\n",
       "      <td>-0.30</td>\n",
       "      <td>0.31</td>\n",
       "    </tr>\n",
       "    <tr>\n",
       "      <th>m8</th>\n",
       "      <td>116058.00</td>\n",
       "      <td>0.00</td>\n",
       "      <td>0.11</td>\n",
       "      <td>0.00</td>\n",
       "      <td>0.00</td>\n",
       "      <td>0.00</td>\n",
       "      <td>0.00</td>\n",
       "      <td>10.00</td>\n",
       "      <td>0.00</td>\n",
       "      <td>0.00</td>\n",
       "      <td>0.34</td>\n",
       "      <td>-0.33</td>\n",
       "      <td>0.34</td>\n",
       "    </tr>\n",
       "    <tr>\n",
       "      <th>m9</th>\n",
       "      <td>116058.00</td>\n",
       "      <td>0.01</td>\n",
       "      <td>0.13</td>\n",
       "      <td>0.00</td>\n",
       "      <td>0.00</td>\n",
       "      <td>0.00</td>\n",
       "      <td>0.00</td>\n",
       "      <td>11.00</td>\n",
       "      <td>0.00</td>\n",
       "      <td>0.00</td>\n",
       "      <td>0.38</td>\n",
       "      <td>-0.38</td>\n",
       "      <td>0.39</td>\n",
       "    </tr>\n",
       "    <tr>\n",
       "      <th>m10</th>\n",
       "      <td>116058.00</td>\n",
       "      <td>0.01</td>\n",
       "      <td>0.15</td>\n",
       "      <td>0.00</td>\n",
       "      <td>0.00</td>\n",
       "      <td>0.00</td>\n",
       "      <td>0.00</td>\n",
       "      <td>12.00</td>\n",
       "      <td>0.00</td>\n",
       "      <td>0.00</td>\n",
       "      <td>0.45</td>\n",
       "      <td>-0.44</td>\n",
       "      <td>0.45</td>\n",
       "    </tr>\n",
       "    <tr>\n",
       "      <th>m11</th>\n",
       "      <td>116058.00</td>\n",
       "      <td>0.01</td>\n",
       "      <td>0.16</td>\n",
       "      <td>0.00</td>\n",
       "      <td>0.00</td>\n",
       "      <td>0.00</td>\n",
       "      <td>0.00</td>\n",
       "      <td>13.00</td>\n",
       "      <td>0.00</td>\n",
       "      <td>0.00</td>\n",
       "      <td>0.49</td>\n",
       "      <td>-0.48</td>\n",
       "      <td>0.50</td>\n",
       "    </tr>\n",
       "    <tr>\n",
       "      <th>m12</th>\n",
       "      <td>116058.00</td>\n",
       "      <td>0.01</td>\n",
       "      <td>0.18</td>\n",
       "      <td>0.00</td>\n",
       "      <td>0.00</td>\n",
       "      <td>0.00</td>\n",
       "      <td>0.00</td>\n",
       "      <td>14.00</td>\n",
       "      <td>0.00</td>\n",
       "      <td>0.00</td>\n",
       "      <td>0.53</td>\n",
       "      <td>-0.53</td>\n",
       "      <td>0.54</td>\n",
       "    </tr>\n",
       "    <tr>\n",
       "      <th>m13</th>\n",
       "      <td>116058.00</td>\n",
       "      <td>0.01</td>\n",
       "      <td>0.07</td>\n",
       "      <td>0.00</td>\n",
       "      <td>0.00</td>\n",
       "      <td>0.00</td>\n",
       "      <td>0.00</td>\n",
       "      <td>1.00</td>\n",
       "      <td>0.00</td>\n",
       "      <td>0.00</td>\n",
       "      <td>0.22</td>\n",
       "      <td>-0.22</td>\n",
       "      <td>0.23</td>\n",
       "    </tr>\n",
       "  </tbody>\n",
       "</table>\n",
       "</div>"
      ],
      "text/plain": [
       "                             count            mean             std  \\\n",
       "loan_id                  116058.00 549415526471.17 259756028059.07   \n",
       "interest_rate            116058.00            3.87            0.46   \n",
       "unpaid_principal_bal     116058.00       208226.22       114685.10   \n",
       "loan_term                116058.00          292.28           89.76   \n",
       "loan_to_value            116058.00           67.43           17.29   \n",
       "number_of_borrowers      116058.00            1.59            0.49   \n",
       "debt_to_income_ratio     116058.00           30.74            9.73   \n",
       "borrower_credit_score    116058.00          769.93           42.21   \n",
       "insurance_percent        116058.00            2.79            8.10   \n",
       "co-borrower_credit_score 116058.00          459.61          381.95   \n",
       "insurance_type           116058.00            0.00            0.06   \n",
       "m1                       116058.00            0.00            0.06   \n",
       "m2                       116058.00            0.00            0.05   \n",
       "m3                       116058.00            0.00            0.06   \n",
       "m4                       116058.00            0.00            0.06   \n",
       "m5                       116058.00            0.00            0.08   \n",
       "m6                       116058.00            0.00            0.09   \n",
       "m7                       116058.00            0.00            0.10   \n",
       "m8                       116058.00            0.00            0.11   \n",
       "m9                       116058.00            0.01            0.13   \n",
       "m10                      116058.00            0.01            0.15   \n",
       "m11                      116058.00            0.01            0.16   \n",
       "m12                      116058.00            0.01            0.18   \n",
       "m13                      116058.00            0.01            0.07   \n",
       "\n",
       "                                     min             25%             50%  \\\n",
       "loan_id                  100000853384.00 324465557294.75 548623903315.00   \n",
       "interest_rate                       2.25            3.50            3.88   \n",
       "unpaid_principal_bal            11000.00       120000.00       183000.00   \n",
       "loan_term                          60.00          180.00          360.00   \n",
       "loan_to_value                       6.00           57.00           72.00   \n",
       "number_of_borrowers                 1.00            1.00            2.00   \n",
       "debt_to_income_ratio                1.00           23.00           31.00   \n",
       "borrower_credit_score               0.00          751.00          782.00   \n",
       "insurance_percent                   0.00            0.00            0.00   \n",
       "co-borrower_credit_score            0.00            0.00          740.00   \n",
       "insurance_type                      0.00            0.00            0.00   \n",
       "m1                                  0.00            0.00            0.00   \n",
       "m2                                  0.00            0.00            0.00   \n",
       "m3                                  0.00            0.00            0.00   \n",
       "m4                                  0.00            0.00            0.00   \n",
       "m5                                  0.00            0.00            0.00   \n",
       "m6                                  0.00            0.00            0.00   \n",
       "m7                                  0.00            0.00            0.00   \n",
       "m8                                  0.00            0.00            0.00   \n",
       "m9                                  0.00            0.00            0.00   \n",
       "m10                                 0.00            0.00            0.00   \n",
       "m11                                 0.00            0.00            0.00   \n",
       "m12                                 0.00            0.00            0.00   \n",
       "m13                                 0.00            0.00            0.00   \n",
       "\n",
       "                                     75%             max            0.01  \\\n",
       "loan_id                  774303420466.50 999997075153.00 108296327292.67   \n",
       "interest_rate                       4.12            6.75            2.88   \n",
       "unpaid_principal_bal           278000.00      1200000.00        43000.00   \n",
       "loan_term                         360.00          360.00          120.00   \n",
       "loan_to_value                      80.00           97.00           21.00   \n",
       "number_of_borrowers                 2.00            2.00            1.00   \n",
       "debt_to_income_ratio               39.00           64.00           10.00   \n",
       "borrower_credit_score             800.00          840.00          650.00   \n",
       "insurance_percent                   0.00           40.00            0.00   \n",
       "co-borrower_credit_score          791.00          836.00            0.00   \n",
       "insurance_type                      0.00            1.00            0.00   \n",
       "m1                                  0.00            3.00            0.00   \n",
       "m2                                  0.00            4.00            0.00   \n",
       "m3                                  0.00            5.00            0.00   \n",
       "m4                                  0.00            6.00            0.00   \n",
       "m5                                  0.00            7.00            0.00   \n",
       "m6                                  0.00            8.00            0.00   \n",
       "m7                                  0.00            9.00            0.00   \n",
       "m8                                  0.00           10.00            0.00   \n",
       "m9                                  0.00           11.00            0.00   \n",
       "m10                                 0.00           12.00            0.00   \n",
       "m11                                 0.00           13.00            0.00   \n",
       "m12                                 0.00           14.00            0.00   \n",
       "m13                                 0.00            1.00            0.00   \n",
       "\n",
       "                                    0.99         cut_off      lower_limit  \\\n",
       "loan_id                  990814234719.20 779264726934.45 -229849200463.28   \n",
       "interest_rate                       5.00            1.38             2.49   \n",
       "unpaid_principal_bal           554000.00       344053.82       -135827.59   \n",
       "loan_term                         360.00          269.29            22.99   \n",
       "loan_to_value                      95.00           51.87            15.56   \n",
       "number_of_borrowers                 2.00            1.47             0.12   \n",
       "debt_to_income_ratio               49.00           29.19             1.55   \n",
       "borrower_credit_score             820.00          126.63           643.30   \n",
       "insurance_percent                  30.00           24.29           -21.50   \n",
       "co-borrower_credit_score          819.00         1145.84          -686.22   \n",
       "insurance_type                      0.00            0.17            -0.17   \n",
       "m1                                  0.00            0.19            -0.19   \n",
       "m2                                  0.00            0.15            -0.15   \n",
       "m3                                  0.00            0.17            -0.16   \n",
       "m4                                  0.00            0.19            -0.18   \n",
       "m5                                  0.00            0.25            -0.24   \n",
       "m6                                  0.00            0.26            -0.26   \n",
       "m7                                  0.00            0.30            -0.30   \n",
       "m8                                  0.00            0.34            -0.33   \n",
       "m9                                  0.00            0.38            -0.38   \n",
       "m10                                 0.00            0.45            -0.44   \n",
       "m11                                 0.00            0.49            -0.48   \n",
       "m12                                 0.00            0.53            -0.53   \n",
       "m13                                 0.00            0.22            -0.22   \n",
       "\n",
       "                              upper_limit  \n",
       "loan_id                  1328680253405.62  \n",
       "interest_rate                        5.25  \n",
       "unpaid_principal_bal            552280.04  \n",
       "loan_term                          561.57  \n",
       "loan_to_value                      119.31  \n",
       "number_of_borrowers                  3.07  \n",
       "debt_to_income_ratio                59.93  \n",
       "borrower_credit_score              896.56  \n",
       "insurance_percent                   27.08  \n",
       "co-borrower_credit_score          1605.45  \n",
       "insurance_type                       0.17  \n",
       "m1                                   0.19  \n",
       "m2                                   0.16  \n",
       "m3                                   0.17  \n",
       "m4                                   0.19  \n",
       "m5                                   0.25  \n",
       "m6                                   0.27  \n",
       "m7                                   0.31  \n",
       "m8                                   0.34  \n",
       "m9                                   0.39  \n",
       "m10                                  0.45  \n",
       "m11                                  0.50  \n",
       "m12                                  0.54  \n",
       "m13                                  0.23  "
      ]
     },
     "execution_count": 11,
     "metadata": {},
     "output_type": "execute_result"
    }
   ],
   "source": [
    "train_trans"
   ]
  },
  {
   "cell_type": "code",
   "execution_count": 11,
   "metadata": {},
   "outputs": [
    {
     "data": {
      "text/html": [
       "<div>\n",
       "<style scoped>\n",
       "    .dataframe tbody tr th:only-of-type {\n",
       "        vertical-align: middle;\n",
       "    }\n",
       "\n",
       "    .dataframe tbody tr th {\n",
       "        vertical-align: top;\n",
       "    }\n",
       "\n",
       "    .dataframe thead th {\n",
       "        text-align: right;\n",
       "    }\n",
       "</style>\n",
       "<table border=\"1\" class=\"dataframe\">\n",
       "  <thead>\n",
       "    <tr style=\"text-align: right;\">\n",
       "      <th></th>\n",
       "      <th>loan_id</th>\n",
       "      <th>interest_rate</th>\n",
       "      <th>unpaid_principal_bal</th>\n",
       "      <th>loan_term</th>\n",
       "      <th>loan_to_value</th>\n",
       "      <th>number_of_borrowers</th>\n",
       "      <th>debt_to_income_ratio</th>\n",
       "      <th>borrower_credit_score</th>\n",
       "      <th>insurance_percent</th>\n",
       "      <th>co-borrower_credit_score</th>\n",
       "      <th>insurance_type</th>\n",
       "      <th>m1</th>\n",
       "      <th>m2</th>\n",
       "      <th>m3</th>\n",
       "      <th>m4</th>\n",
       "      <th>m5</th>\n",
       "      <th>m6</th>\n",
       "      <th>m7</th>\n",
       "      <th>m8</th>\n",
       "      <th>m9</th>\n",
       "      <th>m10</th>\n",
       "      <th>m11</th>\n",
       "      <th>m12</th>\n",
       "      <th>m13</th>\n",
       "    </tr>\n",
       "  </thead>\n",
       "  <tbody>\n",
       "    <tr>\n",
       "      <th>loan_id</th>\n",
       "      <td>1.00</td>\n",
       "      <td>-0.00</td>\n",
       "      <td>0.01</td>\n",
       "      <td>-0.00</td>\n",
       "      <td>0.00</td>\n",
       "      <td>0.00</td>\n",
       "      <td>0.00</td>\n",
       "      <td>0.00</td>\n",
       "      <td>0.00</td>\n",
       "      <td>0.00</td>\n",
       "      <td>-0.00</td>\n",
       "      <td>0.00</td>\n",
       "      <td>-0.01</td>\n",
       "      <td>-0.00</td>\n",
       "      <td>-0.01</td>\n",
       "      <td>-0.01</td>\n",
       "      <td>-0.01</td>\n",
       "      <td>-0.01</td>\n",
       "      <td>-0.00</td>\n",
       "      <td>-0.00</td>\n",
       "      <td>-0.00</td>\n",
       "      <td>-0.00</td>\n",
       "      <td>-0.00</td>\n",
       "      <td>-0.00</td>\n",
       "    </tr>\n",
       "    <tr>\n",
       "      <th>interest_rate</th>\n",
       "      <td>-0.00</td>\n",
       "      <td>1.00</td>\n",
       "      <td>-0.00</td>\n",
       "      <td>0.72</td>\n",
       "      <td>0.27</td>\n",
       "      <td>-0.13</td>\n",
       "      <td>0.18</td>\n",
       "      <td>-0.21</td>\n",
       "      <td>0.14</td>\n",
       "      <td>-0.14</td>\n",
       "      <td>0.06</td>\n",
       "      <td>0.02</td>\n",
       "      <td>0.03</td>\n",
       "      <td>0.03</td>\n",
       "      <td>0.03</td>\n",
       "      <td>0.04</td>\n",
       "      <td>0.03</td>\n",
       "      <td>0.03</td>\n",
       "      <td>0.04</td>\n",
       "      <td>0.04</td>\n",
       "      <td>0.04</td>\n",
       "      <td>0.04</td>\n",
       "      <td>0.04</td>\n",
       "      <td>0.05</td>\n",
       "    </tr>\n",
       "    <tr>\n",
       "      <th>unpaid_principal_bal</th>\n",
       "      <td>0.01</td>\n",
       "      <td>-0.00</td>\n",
       "      <td>1.00</td>\n",
       "      <td>0.19</td>\n",
       "      <td>0.06</td>\n",
       "      <td>0.13</td>\n",
       "      <td>0.07</td>\n",
       "      <td>0.05</td>\n",
       "      <td>0.01</td>\n",
       "      <td>0.13</td>\n",
       "      <td>0.02</td>\n",
       "      <td>0.00</td>\n",
       "      <td>-0.00</td>\n",
       "      <td>-0.01</td>\n",
       "      <td>-0.01</td>\n",
       "      <td>-0.01</td>\n",
       "      <td>-0.01</td>\n",
       "      <td>-0.01</td>\n",
       "      <td>-0.01</td>\n",
       "      <td>-0.01</td>\n",
       "      <td>-0.01</td>\n",
       "      <td>-0.01</td>\n",
       "      <td>-0.01</td>\n",
       "      <td>-0.02</td>\n",
       "    </tr>\n",
       "    <tr>\n",
       "      <th>loan_term</th>\n",
       "      <td>-0.00</td>\n",
       "      <td>0.72</td>\n",
       "      <td>0.19</td>\n",
       "      <td>1.00</td>\n",
       "      <td>0.29</td>\n",
       "      <td>-0.11</td>\n",
       "      <td>0.14</td>\n",
       "      <td>-0.07</td>\n",
       "      <td>0.19</td>\n",
       "      <td>-0.11</td>\n",
       "      <td>0.03</td>\n",
       "      <td>0.01</td>\n",
       "      <td>0.01</td>\n",
       "      <td>0.01</td>\n",
       "      <td>0.01</td>\n",
       "      <td>0.01</td>\n",
       "      <td>0.01</td>\n",
       "      <td>0.01</td>\n",
       "      <td>0.01</td>\n",
       "      <td>0.01</td>\n",
       "      <td>0.02</td>\n",
       "      <td>0.01</td>\n",
       "      <td>0.02</td>\n",
       "      <td>0.02</td>\n",
       "    </tr>\n",
       "    <tr>\n",
       "      <th>loan_to_value</th>\n",
       "      <td>0.00</td>\n",
       "      <td>0.27</td>\n",
       "      <td>0.06</td>\n",
       "      <td>0.29</td>\n",
       "      <td>1.00</td>\n",
       "      <td>-0.10</td>\n",
       "      <td>0.13</td>\n",
       "      <td>-0.14</td>\n",
       "      <td>0.49</td>\n",
       "      <td>-0.11</td>\n",
       "      <td>0.08</td>\n",
       "      <td>0.00</td>\n",
       "      <td>0.01</td>\n",
       "      <td>0.01</td>\n",
       "      <td>0.01</td>\n",
       "      <td>0.01</td>\n",
       "      <td>0.01</td>\n",
       "      <td>0.01</td>\n",
       "      <td>0.01</td>\n",
       "      <td>0.01</td>\n",
       "      <td>0.01</td>\n",
       "      <td>0.01</td>\n",
       "      <td>0.01</td>\n",
       "      <td>0.02</td>\n",
       "    </tr>\n",
       "    <tr>\n",
       "      <th>number_of_borrowers</th>\n",
       "      <td>0.00</td>\n",
       "      <td>-0.13</td>\n",
       "      <td>0.13</td>\n",
       "      <td>-0.11</td>\n",
       "      <td>-0.10</td>\n",
       "      <td>1.00</td>\n",
       "      <td>-0.13</td>\n",
       "      <td>0.12</td>\n",
       "      <td>-0.06</td>\n",
       "      <td>1.00</td>\n",
       "      <td>-0.02</td>\n",
       "      <td>-0.02</td>\n",
       "      <td>-0.02</td>\n",
       "      <td>-0.02</td>\n",
       "      <td>-0.02</td>\n",
       "      <td>-0.02</td>\n",
       "      <td>-0.02</td>\n",
       "      <td>-0.02</td>\n",
       "      <td>-0.03</td>\n",
       "      <td>-0.03</td>\n",
       "      <td>-0.03</td>\n",
       "      <td>-0.03</td>\n",
       "      <td>-0.03</td>\n",
       "      <td>-0.04</td>\n",
       "    </tr>\n",
       "    <tr>\n",
       "      <th>debt_to_income_ratio</th>\n",
       "      <td>0.00</td>\n",
       "      <td>0.18</td>\n",
       "      <td>0.07</td>\n",
       "      <td>0.14</td>\n",
       "      <td>0.13</td>\n",
       "      <td>-0.13</td>\n",
       "      <td>1.00</td>\n",
       "      <td>-0.18</td>\n",
       "      <td>0.07</td>\n",
       "      <td>-0.15</td>\n",
       "      <td>0.02</td>\n",
       "      <td>0.01</td>\n",
       "      <td>0.01</td>\n",
       "      <td>0.01</td>\n",
       "      <td>0.02</td>\n",
       "      <td>0.02</td>\n",
       "      <td>0.02</td>\n",
       "      <td>0.02</td>\n",
       "      <td>0.03</td>\n",
       "      <td>0.02</td>\n",
       "      <td>0.02</td>\n",
       "      <td>0.03</td>\n",
       "      <td>0.02</td>\n",
       "      <td>0.04</td>\n",
       "    </tr>\n",
       "    <tr>\n",
       "      <th>borrower_credit_score</th>\n",
       "      <td>0.00</td>\n",
       "      <td>-0.21</td>\n",
       "      <td>0.05</td>\n",
       "      <td>-0.07</td>\n",
       "      <td>-0.14</td>\n",
       "      <td>0.12</td>\n",
       "      <td>-0.18</td>\n",
       "      <td>1.00</td>\n",
       "      <td>-0.06</td>\n",
       "      <td>0.15</td>\n",
       "      <td>-0.00</td>\n",
       "      <td>-0.04</td>\n",
       "      <td>-0.05</td>\n",
       "      <td>-0.05</td>\n",
       "      <td>-0.06</td>\n",
       "      <td>-0.07</td>\n",
       "      <td>-0.06</td>\n",
       "      <td>-0.06</td>\n",
       "      <td>-0.06</td>\n",
       "      <td>-0.06</td>\n",
       "      <td>-0.06</td>\n",
       "      <td>-0.06</td>\n",
       "      <td>-0.06</td>\n",
       "      <td>-0.09</td>\n",
       "    </tr>\n",
       "    <tr>\n",
       "      <th>insurance_percent</th>\n",
       "      <td>0.00</td>\n",
       "      <td>0.14</td>\n",
       "      <td>0.01</td>\n",
       "      <td>0.19</td>\n",
       "      <td>0.49</td>\n",
       "      <td>-0.06</td>\n",
       "      <td>0.07</td>\n",
       "      <td>-0.06</td>\n",
       "      <td>1.00</td>\n",
       "      <td>-0.06</td>\n",
       "      <td>0.15</td>\n",
       "      <td>-0.00</td>\n",
       "      <td>-0.00</td>\n",
       "      <td>-0.00</td>\n",
       "      <td>-0.00</td>\n",
       "      <td>-0.00</td>\n",
       "      <td>-0.00</td>\n",
       "      <td>-0.00</td>\n",
       "      <td>-0.00</td>\n",
       "      <td>-0.00</td>\n",
       "      <td>-0.00</td>\n",
       "      <td>-0.00</td>\n",
       "      <td>0.00</td>\n",
       "      <td>0.01</td>\n",
       "    </tr>\n",
       "    <tr>\n",
       "      <th>co-borrower_credit_score</th>\n",
       "      <td>0.00</td>\n",
       "      <td>-0.14</td>\n",
       "      <td>0.13</td>\n",
       "      <td>-0.11</td>\n",
       "      <td>-0.11</td>\n",
       "      <td>1.00</td>\n",
       "      <td>-0.15</td>\n",
       "      <td>0.15</td>\n",
       "      <td>-0.06</td>\n",
       "      <td>1.00</td>\n",
       "      <td>-0.02</td>\n",
       "      <td>-0.02</td>\n",
       "      <td>-0.02</td>\n",
       "      <td>-0.02</td>\n",
       "      <td>-0.02</td>\n",
       "      <td>-0.03</td>\n",
       "      <td>-0.02</td>\n",
       "      <td>-0.03</td>\n",
       "      <td>-0.03</td>\n",
       "      <td>-0.03</td>\n",
       "      <td>-0.03</td>\n",
       "      <td>-0.03</td>\n",
       "      <td>-0.03</td>\n",
       "      <td>-0.04</td>\n",
       "    </tr>\n",
       "    <tr>\n",
       "      <th>insurance_type</th>\n",
       "      <td>-0.00</td>\n",
       "      <td>0.06</td>\n",
       "      <td>0.02</td>\n",
       "      <td>0.03</td>\n",
       "      <td>0.08</td>\n",
       "      <td>-0.02</td>\n",
       "      <td>0.02</td>\n",
       "      <td>-0.00</td>\n",
       "      <td>0.15</td>\n",
       "      <td>-0.02</td>\n",
       "      <td>1.00</td>\n",
       "      <td>0.00</td>\n",
       "      <td>0.00</td>\n",
       "      <td>0.01</td>\n",
       "      <td>0.00</td>\n",
       "      <td>0.00</td>\n",
       "      <td>0.00</td>\n",
       "      <td>-0.00</td>\n",
       "      <td>0.00</td>\n",
       "      <td>-0.00</td>\n",
       "      <td>0.00</td>\n",
       "      <td>-0.00</td>\n",
       "      <td>-0.00</td>\n",
       "      <td>0.01</td>\n",
       "    </tr>\n",
       "  </tbody>\n",
       "</table>\n",
       "</div>"
      ],
      "text/plain": [
       "                          loan_id  interest_rate  unpaid_principal_bal  \\\n",
       "loan_id                      1.00          -0.00                  0.01   \n",
       "interest_rate               -0.00           1.00                 -0.00   \n",
       "unpaid_principal_bal         0.01          -0.00                  1.00   \n",
       "loan_term                   -0.00           0.72                  0.19   \n",
       "loan_to_value                0.00           0.27                  0.06   \n",
       "number_of_borrowers          0.00          -0.13                  0.13   \n",
       "debt_to_income_ratio         0.00           0.18                  0.07   \n",
       "borrower_credit_score        0.00          -0.21                  0.05   \n",
       "insurance_percent            0.00           0.14                  0.01   \n",
       "co-borrower_credit_score     0.00          -0.14                  0.13   \n",
       "insurance_type              -0.00           0.06                  0.02   \n",
       "\n",
       "                          loan_term  loan_to_value  number_of_borrowers  \\\n",
       "loan_id                       -0.00           0.00                 0.00   \n",
       "interest_rate                  0.72           0.27                -0.13   \n",
       "unpaid_principal_bal           0.19           0.06                 0.13   \n",
       "loan_term                      1.00           0.29                -0.11   \n",
       "loan_to_value                  0.29           1.00                -0.10   \n",
       "number_of_borrowers           -0.11          -0.10                 1.00   \n",
       "debt_to_income_ratio           0.14           0.13                -0.13   \n",
       "borrower_credit_score         -0.07          -0.14                 0.12   \n",
       "insurance_percent              0.19           0.49                -0.06   \n",
       "co-borrower_credit_score      -0.11          -0.11                 1.00   \n",
       "insurance_type                 0.03           0.08                -0.02   \n",
       "\n",
       "                          debt_to_income_ratio  borrower_credit_score  \\\n",
       "loan_id                                   0.00                   0.00   \n",
       "interest_rate                             0.18                  -0.21   \n",
       "unpaid_principal_bal                      0.07                   0.05   \n",
       "loan_term                                 0.14                  -0.07   \n",
       "loan_to_value                             0.13                  -0.14   \n",
       "number_of_borrowers                      -0.13                   0.12   \n",
       "debt_to_income_ratio                      1.00                  -0.18   \n",
       "borrower_credit_score                    -0.18                   1.00   \n",
       "insurance_percent                         0.07                  -0.06   \n",
       "co-borrower_credit_score                 -0.15                   0.15   \n",
       "insurance_type                            0.02                  -0.00   \n",
       "\n",
       "                          insurance_percent  co-borrower_credit_score  \\\n",
       "loan_id                                0.00                      0.00   \n",
       "interest_rate                          0.14                     -0.14   \n",
       "unpaid_principal_bal                   0.01                      0.13   \n",
       "loan_term                              0.19                     -0.11   \n",
       "loan_to_value                          0.49                     -0.11   \n",
       "number_of_borrowers                   -0.06                      1.00   \n",
       "debt_to_income_ratio                   0.07                     -0.15   \n",
       "borrower_credit_score                 -0.06                      0.15   \n",
       "insurance_percent                      1.00                     -0.06   \n",
       "co-borrower_credit_score              -0.06                      1.00   \n",
       "insurance_type                         0.15                     -0.02   \n",
       "\n",
       "                          insurance_type    m1    m2    m3    m4    m5    m6  \\\n",
       "loan_id                            -0.00  0.00 -0.01 -0.00 -0.01 -0.01 -0.01   \n",
       "interest_rate                       0.06  0.02  0.03  0.03  0.03  0.04  0.03   \n",
       "unpaid_principal_bal                0.02  0.00 -0.00 -0.01 -0.01 -0.01 -0.01   \n",
       "loan_term                           0.03  0.01  0.01  0.01  0.01  0.01  0.01   \n",
       "loan_to_value                       0.08  0.00  0.01  0.01  0.01  0.01  0.01   \n",
       "number_of_borrowers                -0.02 -0.02 -0.02 -0.02 -0.02 -0.02 -0.02   \n",
       "debt_to_income_ratio                0.02  0.01  0.01  0.01  0.02  0.02  0.02   \n",
       "borrower_credit_score              -0.00 -0.04 -0.05 -0.05 -0.06 -0.07 -0.06   \n",
       "insurance_percent                   0.15 -0.00 -0.00 -0.00 -0.00 -0.00 -0.00   \n",
       "co-borrower_credit_score           -0.02 -0.02 -0.02 -0.02 -0.02 -0.03 -0.02   \n",
       "insurance_type                      1.00  0.00  0.00  0.01  0.00  0.00  0.00   \n",
       "\n",
       "                            m7    m8    m9   m10   m11   m12   m13  \n",
       "loan_id                  -0.01 -0.00 -0.00 -0.00 -0.00 -0.00 -0.00  \n",
       "interest_rate             0.03  0.04  0.04  0.04  0.04  0.04  0.05  \n",
       "unpaid_principal_bal     -0.01 -0.01 -0.01 -0.01 -0.01 -0.01 -0.02  \n",
       "loan_term                 0.01  0.01  0.01  0.02  0.01  0.02  0.02  \n",
       "loan_to_value             0.01  0.01  0.01  0.01  0.01  0.01  0.02  \n",
       "number_of_borrowers      -0.02 -0.03 -0.03 -0.03 -0.03 -0.03 -0.04  \n",
       "debt_to_income_ratio      0.02  0.03  0.02  0.02  0.03  0.02  0.04  \n",
       "borrower_credit_score    -0.06 -0.06 -0.06 -0.06 -0.06 -0.06 -0.09  \n",
       "insurance_percent        -0.00 -0.00 -0.00 -0.00 -0.00  0.00  0.01  \n",
       "co-borrower_credit_score -0.03 -0.03 -0.03 -0.03 -0.03 -0.03 -0.04  \n",
       "insurance_type           -0.00  0.00 -0.00  0.00 -0.00 -0.00  0.01  "
      ]
     },
     "execution_count": 11,
     "metadata": {},
     "output_type": "execute_result"
    }
   ],
   "source": [
    "#Getting the correlation between Quantitative Features\n",
    "#Interest Rate is positively correlated to Loan Term, Loan to Value,debt_to_income_ratio\n",
    "#co-borrower_credit_score is positively correlated to number of borrowers\n",
    "#Insurance percent is positively corelated to loan_to_value\n",
    "train.corr(method='pearson').head(11)"
   ]
  },
  {
   "cell_type": "code",
   "execution_count": 149,
   "metadata": {},
   "outputs": [],
   "source": [
    "#Dropping the columns of less importance. They are not significant for model building.\n",
    "#Dropping First Payment date and origination_date as loan term is given already. So it may cause redundancy\n",
    "#train.drop(['loan_id','origination_date','first_payment_date'],axis=1,inplace=True)"
   ]
  },
  {
   "cell_type": "code",
   "execution_count": 12,
   "metadata": {},
   "outputs": [
    {
     "data": {
      "text/plain": [
       "Int64Index([    39,    124,    185,    197,    202,    259,    265,    334,\n",
       "               347,    353,\n",
       "            ...\n",
       "            113150, 113669, 113974, 114362, 114377, 114470, 114512, 114611,\n",
       "            115487, 115861],\n",
       "           dtype='int64', length=358)"
      ]
     },
     "execution_count": 12,
     "metadata": {},
     "output_type": "execute_result"
    }
   ],
   "source": [
    "#Dropping the potential outliers for each feature considering lower_limit and upper_limit as the threshold\n",
    "train.loc[train['interest_rate']>5.25].index"
   ]
  },
  {
   "cell_type": "code",
   "execution_count": 13,
   "metadata": {},
   "outputs": [
    {
     "data": {
      "text/plain": [
       "<matplotlib.axes._subplots.AxesSubplot at 0x19c596385f8>"
      ]
     },
     "execution_count": 13,
     "metadata": {},
     "output_type": "execute_result"
    },
    {
     "data": {
      "image/png": "[encoded data removed]",
      "text/plain": [
       "<Figure size 432x288 with 1 Axes>"
      ]
     },
     "metadata": {
      "needs_background": "light"
     },
     "output_type": "display_data"
    }
   ],
   "source": [
    "#Plotting interest_rate\n",
    "import seaborn as sns\n",
    "sns.boxplot(train['interest_rate'])"
   ]
  },
  {
   "cell_type": "code",
   "execution_count": 14,
   "metadata": {},
   "outputs": [],
   "source": [
    "train.drop(train.loc[train['interest_rate']>5.25].index,inplace=True)  #upper limit is 5.25"
   ]
  },
  {
   "cell_type": "code",
   "execution_count": 15,
   "metadata": {},
   "outputs": [
    {
     "data": {
      "text/plain": [
       "Int64Index([23455, 107296], dtype='int64')"
      ]
     },
     "execution_count": 15,
     "metadata": {},
     "output_type": "execute_result"
    }
   ],
   "source": [
    "train.loc[train['debt_to_income_ratio']>60].index  #upper limit is 59.93"
   ]
  },
  {
   "cell_type": "code",
   "execution_count": 16,
   "metadata": {},
   "outputs": [
    {
     "data": {
      "text/plain": [
       "<matplotlib.axes._subplots.AxesSubplot at 0x19c59705cc0>"
      ]
     },
     "execution_count": 16,
     "metadata": {},
     "output_type": "execute_result"
    },
    {
     "data": {
      "image/png": "[encoded data removed]",
      "text/plain": [
       "<Figure size 432x288 with 1 Axes>"
      ]
     },
     "metadata": {
      "needs_background": "light"
     },
     "output_type": "display_data"
    }
   ],
   "source": [
    "sns.boxplot(train['debt_to_income_ratio'])"
   ]
  },
  {
   "cell_type": "code",
   "execution_count": 17,
   "metadata": {},
   "outputs": [],
   "source": [
    "train.drop(train.loc[train['debt_to_income_ratio']>60].index,inplace=True)"
   ]
  },
  {
   "cell_type": "code",
   "execution_count": 18,
   "metadata": {},
   "outputs": [
    {
     "data": {
      "text/plain": [
       "0.00     102108\n",
       "30.00      5108\n",
       "25.00      4882\n",
       "12.00      2490\n",
       "6.00        700\n",
       "35.00       371\n",
       "16.00        18\n",
       "18.00        12\n",
       "20.00         3\n",
       "17.00         2\n",
       "15.00         1\n",
       "39.00         1\n",
       "22.00         1\n",
       "40.00         1\n",
       "Name: insurance_percent, dtype: int64"
      ]
     },
     "execution_count": 18,
     "metadata": {},
     "output_type": "execute_result"
    }
   ],
   "source": [
    "train['insurance_percent'].value_counts()"
   ]
  },
  {
   "cell_type": "code",
   "execution_count": 19,
   "metadata": {},
   "outputs": [],
   "source": [
    "#Dropping the column as it is not adding much information and it is 0 for most of the data\n",
    "train.drop('insurance_percent',axis=1,inplace=True)"
   ]
  },
  {
   "cell_type": "code",
   "execution_count": 20,
   "metadata": {},
   "outputs": [
    {
     "data": {
      "text/plain": [
       "34        588000\n",
       "175       610000\n",
       "365       590000\n",
       "662       621000\n",
       "671       626000\n",
       "758       626000\n",
       "873       590000\n",
       "903       623000\n",
       "976       605000\n",
       "1115      600000\n",
       "1186      557000\n",
       "1254      625000\n",
       "1374      603000\n",
       "1616      626000\n",
       "1743      555000\n",
       "2090      620000\n",
       "2131      609000\n",
       "2223      562000\n",
       "2233      625000\n",
       "2394      625000\n",
       "2429      580000\n",
       "2448      556000\n",
       "2579      605000\n",
       "2600      600000\n",
       "2753      623000\n",
       "2767      616000\n",
       "2839      581000\n",
       "2966      625000\n",
       "3548      626000\n",
       "3657      600000\n",
       "           ...  \n",
       "113604    639000\n",
       "113642    570000\n",
       "113745    626000\n",
       "113779    619000\n",
       "113811    615000\n",
       "113963    565000\n",
       "113988    575000\n",
       "114049    611000\n",
       "114053    589000\n",
       "114207    616000\n",
       "114355    608000\n",
       "114523    610000\n",
       "114533    602000\n",
       "114593    600000\n",
       "114649    600000\n",
       "114654    603000\n",
       "114669    604000\n",
       "114753    625000\n",
       "114838    626000\n",
       "114865    583000\n",
       "114899    615000\n",
       "115040    619000\n",
       "115309    639000\n",
       "115333    626000\n",
       "115562    555000\n",
       "115583    626000\n",
       "115584    555000\n",
       "115749    588000\n",
       "115847    570000\n",
       "115963    580000\n",
       "Name: unpaid_principal_bal, Length: 1178, dtype: int64"
      ]
     },
     "execution_count": 20,
     "metadata": {},
     "output_type": "execute_result"
    }
   ],
   "source": [
    "#These are exceptions but not outliers.We cannot afford to delete all of them as will loose information\n",
    "train.loc[train['unpaid_principal_bal']>552280]['unpaid_principal_bal']               #upper_limit is 552280"
   ]
  },
  {
   "cell_type": "code",
   "execution_count": 276,
   "metadata": {},
   "outputs": [
    {
     "data": {
      "text/plain": [
       "<matplotlib.axes._subplots.AxesSubplot at 0x1c4143cdf60>"
      ]
     },
     "execution_count": 276,
     "metadata": {},
     "output_type": "execute_result"
    },
    {
     "data": {
      "image/png": "[encoded data removed]",
      "text/plain": [
       "<Figure size 432x288 with 1 Axes>"
      ]
     },
     "metadata": {
      "needs_background": "light"
     },
     "output_type": "display_data"
    }
   ],
   "source": [
    "sns.boxplot(train['unpaid_principal_bal'])"
   ]
  },
  {
   "cell_type": "code",
   "execution_count": 277,
   "metadata": {},
   "outputs": [
    {
     "data": {
      "text/plain": [
       "<matplotlib.collections.PathCollection at 0x1c4123f4780>"
      ]
     },
     "execution_count": 277,
     "metadata": {},
     "output_type": "execute_result"
    },
    {
     "data": {
      "image/png": "[encoded data removed]",
      "text/plain": [
       "<Figure size 432x288 with 1 Axes>"
      ]
     },
     "metadata": {
      "needs_background": "light"
     },
     "output_type": "display_data"
    }
   ],
   "source": [
    "plt.scatter(train['loan_term'],train['unpaid_principal_bal'])"
   ]
  },
  {
   "cell_type": "code",
   "execution_count": 21,
   "metadata": {},
   "outputs": [
    {
     "data": {
      "text/plain": [
       "37800     968000\n",
       "64868     802000\n",
       "72978     915000\n",
       "84135    1200000\n",
       "96610     802000\n",
       "Name: unpaid_principal_bal, dtype: int64"
      ]
     },
     "execution_count": 21,
     "metadata": {},
     "output_type": "execute_result"
    }
   ],
   "source": [
    "#These can be considered as potential outliers\n",
    "train.loc[train['unpaid_principal_bal']>800000]['unpaid_principal_bal']"
   ]
  },
  {
   "cell_type": "code",
   "execution_count": 22,
   "metadata": {},
   "outputs": [],
   "source": [
    "train.drop(train.loc[train['unpaid_principal_bal']>800000].index,inplace=True)"
   ]
  },
  {
   "cell_type": "code",
   "execution_count": 23,
   "metadata": {},
   "outputs": [
    {
     "data": {
      "text/plain": [
       "(115693, 28)"
      ]
     },
     "execution_count": 23,
     "metadata": {},
     "output_type": "execute_result"
    }
   ],
   "source": [
    "train.shape"
   ]
  },
  {
   "cell_type": "code",
   "execution_count": 24,
   "metadata": {},
   "outputs": [
    {
     "data": {
      "text/plain": [
       "OTHER                          49624\n",
       "Browning-Hart                  31739\n",
       "Swanson, Newton and Miller      6840\n",
       "Edwards-Hoffman                 4827\n",
       "Martinez, Duffy and Bird        4674\n",
       "Miller, Mcclure and Allen       3149\n",
       "Nicholson Group                 2110\n",
       "Turner, Baldwin and Rhodes      1846\n",
       "Suarez Inc                      1784\n",
       "Cole, Brooks and Vincent        1596\n",
       "Richards-Walters                1459\n",
       "Taylor, Hunt and Rodriguez      1254\n",
       "Sanchez-Robinson                1193\n",
       "Sanchez, Hays and Wilkerson      853\n",
       "Romero, Woods and Johnson        750\n",
       "Thornton-Davis                   651\n",
       "Anderson-Taylor                  483\n",
       "Richardson Ltd                   473\n",
       "Chapman-Mcmahon                  388\n",
       "Name: financial_institution, dtype: int64"
      ]
     },
     "execution_count": 24,
     "metadata": {},
     "output_type": "execute_result"
    }
   ],
   "source": [
    "train['financial_institution'].value_counts()"
   ]
  },
  {
   "cell_type": "code",
   "execution_count": 25,
   "metadata": {},
   "outputs": [
    {
     "data": {
      "text/plain": [
       "<matplotlib.collections.PathCollection at 0x27da336f470>"
      ]
     },
     "execution_count": 25,
     "metadata": {},
     "output_type": "execute_result"
    },
    {
     "data": {
      "image/png": "[encoded data removed]",
      "text/plain": [
       "<Figure size 432x288 with 1 Axes>"
      ]
     },
     "metadata": {
      "needs_background": "light"
     },
     "output_type": "display_data"
    }
   ],
   "source": [
    "plt.scatter(train['source'],train['unpaid_principal_bal'])"
   ]
  },
  {
   "cell_type": "code",
   "execution_count": 26,
   "metadata": {},
   "outputs": [
    {
     "data": {
      "text/plain": [
       "<matplotlib.collections.PathCollection at 0x27da380ac50>"
      ]
     },
     "execution_count": 26,
     "metadata": {},
     "output_type": "execute_result"
    },
    {
     "data": {
      "image/png": "[encoded data removed]",
      "text/plain": [
       "<Figure size 432x288 with 1 Axes>"
      ]
     },
     "metadata": {
      "needs_background": "light"
     },
     "output_type": "display_data"
    }
   ],
   "source": [
    "plt.scatter(train['source'],train['debt_to_income_ratio'])"
   ]
  },
  {
   "cell_type": "code",
   "execution_count": 183,
   "metadata": {},
   "outputs": [
    {
     "data": {
      "text/plain": [
       "X    63661\n",
       "Y    37406\n",
       "Z    14626\n",
       "Name: source, dtype: int64"
      ]
     },
     "execution_count": 183,
     "metadata": {},
     "output_type": "execute_result"
    }
   ],
   "source": [
    "train['source'].value_counts()"
   ]
  },
  {
   "cell_type": "code",
   "execution_count": 165,
   "metadata": {},
   "outputs": [],
   "source": [
    "#Dropping the source column as it is not causing any variation in the data\n",
    "#train.drop('source',inplace=True,axis=1)"
   ]
  },
  {
   "cell_type": "code",
   "execution_count": 23,
   "metadata": {},
   "outputs": [
    {
     "data": {
      "text/plain": [
       "Index(['loan_id', 'source', 'financial_institution', 'interest_rate',\n",
       "       'unpaid_principal_bal', 'loan_term', 'origination_date',\n",
       "       'first_payment_date', 'loan_to_value', 'number_of_borrowers',\n",
       "       'debt_to_income_ratio', 'borrower_credit_score', 'loan_purpose',\n",
       "       'co-borrower_credit_score', 'insurance_type', 'm1', 'm2', 'm3', 'm4',\n",
       "       'm5', 'm6', 'm7', 'm8', 'm9', 'm10', 'm11', 'm12', 'm13'],\n",
       "      dtype='object')"
      ]
     },
     "execution_count": 23,
     "metadata": {},
     "output_type": "execute_result"
    }
   ],
   "source": [
    "train.columns"
   ]
  },
  {
   "cell_type": "code",
   "execution_count": 24,
   "metadata": {},
   "outputs": [
    {
     "data": {
      "image/png": "[encoded data removed]",
      "text/plain": [
       "<Figure size 864x720 with 2 Axes>"
      ]
     },
     "metadata": {
      "needs_background": "light"
     },
     "output_type": "display_data"
    }
   ],
   "source": [
    "plt.figure(figsize=(12,10))\n",
    "cor = train.corr()\n",
    "sns.heatmap(cor, annot=True, cmap=plt.cm.Reds)\n",
    "plt.show()"
   ]
  },
  {
   "cell_type": "code",
   "execution_count": 25,
   "metadata": {},
   "outputs": [],
   "source": [
    "#Correlation with output variable\n",
    "cor_target = abs(cor[\"m13\"])"
   ]
  },
  {
   "cell_type": "code",
   "execution_count": 26,
   "metadata": {},
   "outputs": [
    {
     "data": {
      "text/plain": [
       "m9    0.37\n",
       "m10   0.37\n",
       "m11   0.41\n",
       "m12   0.47\n",
       "m13   1.00\n",
       "Name: m13, dtype: float64"
      ]
     },
     "execution_count": 26,
     "metadata": {},
     "output_type": "execute_result"
    }
   ],
   "source": [
    "#Selecting highly correlated features\n",
    "relevant_features = cor_target[cor_target>0.35]\n",
    "relevant_features"
   ]
  },
  {
   "cell_type": "code",
   "execution_count": 31,
   "metadata": {},
   "outputs": [
    {
     "name": "stdout",
     "output_type": "stream",
     "text": [
      "                           m13  interest_rate  loan_term  number_of_borrowers  \\\n",
      "m13                       1.00           0.05       0.02                -0.04   \n",
      "interest_rate             0.05           1.00       0.73                -0.13   \n",
      "loan_term                 0.02           0.73       1.00                -0.11   \n",
      "number_of_borrowers      -0.04          -0.13      -0.11                 1.00   \n",
      "borrower_credit_score    -0.09          -0.20      -0.07                 0.12   \n",
      "co-borrower_credit_score -0.04          -0.14      -0.11                 1.00   \n",
      "\n",
      "                          borrower_credit_score  co-borrower_credit_score  \n",
      "m13                                       -0.09                     -0.04  \n",
      "interest_rate                             -0.20                     -0.14  \n",
      "loan_term                                 -0.07                     -0.11  \n",
      "number_of_borrowers                        0.12                      1.00  \n",
      "borrower_credit_score                      1.00                      0.15  \n",
      "co-borrower_credit_score                   0.15                      1.00  \n"
     ]
    }
   ],
   "source": [
    "print(train[['m13','interest_rate','loan_term','number_of_borrowers','borrower_credit_score','co-borrower_credit_score']].corr())\n"
   ]
  },
  {
   "cell_type": "code",
   "execution_count": 30,
   "metadata": {},
   "outputs": [
    {
     "data": {
      "text/plain": [
       "Index(['loan_id', 'source', 'financial_institution', 'interest_rate',\n",
       "       'unpaid_principal_bal', 'loan_term', 'origination_date',\n",
       "       'first_payment_date', 'loan_to_value', 'number_of_borrowers',\n",
       "       'debt_to_income_ratio', 'borrower_credit_score', 'loan_purpose',\n",
       "       'co-borrower_credit_score', 'insurance_type', 'm1', 'm2', 'm3', 'm4',\n",
       "       'm5', 'm6', 'm7', 'm8', 'm9', 'm10', 'm11', 'm12', 'm13'],\n",
       "      dtype='object')"
      ]
     },
     "execution_count": 30,
     "metadata": {},
     "output_type": "execute_result"
    }
   ],
   "source": [
    "#train=q  #backup\n",
    "train.columns"
   ]
  },
  {
   "cell_type": "code",
   "execution_count": 38,
   "metadata": {},
   "outputs": [],
   "source": [
    "Train = train[['m9','m11','m12','m13','interest_rate','loan_term','borrower_credit_score']]"
   ]
  },
  {
   "cell_type": "code",
   "execution_count": 34,
   "metadata": {},
   "outputs": [
    {
     "name": "stderr",
     "output_type": "stream",
     "text": [
      "c:\\users\\719475\\appdata\\local\\programs\\python\\python36\\lib\\site-packages\\ipykernel_launcher.py:1: SettingWithCopyWarning: \n",
      "A value is trying to be set on a copy of a slice from a DataFrame.\n",
      "Try using .loc[row_indexer,col_indexer] = value instead\n",
      "\n",
      "See the caveats in the documentation: http://pandas.pydata.org/pandas-docs/stable/indexing.html#indexing-view-versus-copy\n",
      "  \"\"\"Entry point for launching an IPython kernel.\n",
      "c:\\users\\719475\\appdata\\local\\programs\\python\\python36\\lib\\site-packages\\ipykernel_launcher.py:3: SettingWithCopyWarning: \n",
      "A value is trying to be set on a copy of a slice from a DataFrame.\n",
      "Try using .loc[row_indexer,col_indexer] = value instead\n",
      "\n",
      "See the caveats in the documentation: http://pandas.pydata.org/pandas-docs/stable/indexing.html#indexing-view-versus-copy\n",
      "  This is separate from the ipykernel package so we can avoid doing imports until\n",
      "c:\\users\\719475\\appdata\\local\\programs\\python\\python36\\lib\\site-packages\\ipykernel_launcher.py:7: SettingWithCopyWarning: \n",
      "A value is trying to be set on a copy of a slice from a DataFrame.\n",
      "Try using .loc[row_indexer,col_indexer] = value instead\n",
      "\n",
      "See the caveats in the documentation: http://pandas.pydata.org/pandas-docs/stable/indexing.html#indexing-view-versus-copy\n",
      "  import sys\n",
      "c:\\users\\719475\\appdata\\local\\programs\\python\\python36\\lib\\site-packages\\ipykernel_launcher.py:8: SettingWithCopyWarning: \n",
      "A value is trying to be set on a copy of a slice from a DataFrame.\n",
      "Try using .loc[row_indexer,col_indexer] = value instead\n",
      "\n",
      "See the caveats in the documentation: http://pandas.pydata.org/pandas-docs/stable/indexing.html#indexing-view-versus-copy\n",
      "  \n"
     ]
    }
   ],
   "source": [
    "Train['interest_rate'] = (Train['interest_rate']-Train['interest_rate'].mean())/Train['interest_rate'].std(ddof=0)\n",
    "#Train['unpaid_principal_bal_zscore'] = (test['unpaid_principal_bal']-test['unpaid_principal_bal'].mean())/test['unpaid_principal_bal'].std(ddof=0)\n",
    "Train['loan_term'] = (Train['loan_term']-Train['loan_term'].mean())/Train['loan_term'].std(ddof=0)\n",
    "#Train['loan_to_value_zscore'] = (test['loan_to_value']-test['loan_to_value'].mean())/test['loan_to_value'].std(ddof=0)\n",
    "#Train['number_of_borrowers_zscore'] = (test['number_of_borrowers']-test['number_of_borrowers'].mean())/test['number_of_borrowers'].std(ddof=0)\n",
    "#Train['debt_to_income_ratio_zscore'] = (test['debt_to_income_ratio']-test['debt_to_income_ratio'].mean())/test['debt_to_income_ratio'].std(ddof=0)\n",
    "Train['borrower_credit_score'] = (Train['borrower_credit_score']-Train['borrower_credit_score'].mean())/Train['borrower_credit_score'].std(ddof=0)\n",
    "Train['co-borrower_credit_score'] = (Train['co-borrower_credit_score']-Train['co-borrower_credit_score'].mean())/Train['co-borrower_credit_score'].std(ddof=0)"
   ]
  },
  {
   "cell_type": "code",
   "execution_count": 39,
   "metadata": {},
   "outputs": [
    {
     "data": {
      "text/html": [
       "<div>\n",
       "<style scoped>\n",
       "    .dataframe tbody tr th:only-of-type {\n",
       "        vertical-align: middle;\n",
       "    }\n",
       "\n",
       "    .dataframe tbody tr th {\n",
       "        vertical-align: top;\n",
       "    }\n",
       "\n",
       "    .dataframe thead th {\n",
       "        text-align: right;\n",
       "    }\n",
       "</style>\n",
       "<table border=\"1\" class=\"dataframe\">\n",
       "  <thead>\n",
       "    <tr style=\"text-align: right;\">\n",
       "      <th></th>\n",
       "      <th>m9</th>\n",
       "      <th>m11</th>\n",
       "      <th>m12</th>\n",
       "      <th>m13</th>\n",
       "      <th>interest_rate</th>\n",
       "      <th>loan_term</th>\n",
       "      <th>borrower_credit_score</th>\n",
       "    </tr>\n",
       "  </thead>\n",
       "  <tbody>\n",
       "    <tr>\n",
       "      <th>0</th>\n",
       "      <td>0</td>\n",
       "      <td>0</td>\n",
       "      <td>0</td>\n",
       "      <td>1</td>\n",
       "      <td>4.25</td>\n",
       "      <td>360</td>\n",
       "      <td>694.00</td>\n",
       "    </tr>\n",
       "    <tr>\n",
       "      <th>1</th>\n",
       "      <td>0</td>\n",
       "      <td>1</td>\n",
       "      <td>0</td>\n",
       "      <td>1</td>\n",
       "      <td>4.88</td>\n",
       "      <td>360</td>\n",
       "      <td>697.00</td>\n",
       "    </tr>\n",
       "    <tr>\n",
       "      <th>2</th>\n",
       "      <td>0</td>\n",
       "      <td>0</td>\n",
       "      <td>0</td>\n",
       "      <td>1</td>\n",
       "      <td>3.25</td>\n",
       "      <td>180</td>\n",
       "      <td>780.00</td>\n",
       "    </tr>\n",
       "    <tr>\n",
       "      <th>3</th>\n",
       "      <td>1</td>\n",
       "      <td>1</td>\n",
       "      <td>1</td>\n",
       "      <td>1</td>\n",
       "      <td>4.75</td>\n",
       "      <td>360</td>\n",
       "      <td>633.00</td>\n",
       "    </tr>\n",
       "    <tr>\n",
       "      <th>4</th>\n",
       "      <td>8</td>\n",
       "      <td>10</td>\n",
       "      <td>11</td>\n",
       "      <td>1</td>\n",
       "      <td>4.75</td>\n",
       "      <td>360</td>\n",
       "      <td>681.00</td>\n",
       "    </tr>\n",
       "  </tbody>\n",
       "</table>\n",
       "</div>"
      ],
      "text/plain": [
       "   m9  m11  m12  m13  interest_rate  loan_term  borrower_credit_score\n",
       "0   0    0    0    1           4.25        360                 694.00\n",
       "1   0    1    0    1           4.88        360                 697.00\n",
       "2   0    0    0    1           3.25        180                 780.00\n",
       "3   1    1    1    1           4.75        360                 633.00\n",
       "4   8   10   11    1           4.75        360                 681.00"
      ]
     },
     "execution_count": 39,
     "metadata": {},
     "output_type": "execute_result"
    }
   ],
   "source": [
    "Train.head()\n",
    "#pd.crosstab(train['m13'],train['number_of_borrowers_zscore'])"
   ]
  },
  {
   "cell_type": "code",
   "execution_count": 61,
   "metadata": {},
   "outputs": [],
   "source": [
    "train = pd.get_dummies(train,prefix_sep='_',drop_first=True)"
   ]
  },
  {
   "cell_type": "code",
   "execution_count": 40,
   "metadata": {},
   "outputs": [
    {
     "data": {
      "text/plain": [
       "(115693, 7)"
      ]
     },
     "execution_count": 40,
     "metadata": {},
     "output_type": "execute_result"
    }
   ],
   "source": [
    "x=Train #backup\n",
    "x.shape"
   ]
  },
  {
   "cell_type": "code",
   "execution_count": 41,
   "metadata": {},
   "outputs": [
    {
     "data": {
      "text/plain": [
       "0    115069\n",
       "1       624\n",
       "Name: m13, dtype: int64"
      ]
     },
     "execution_count": 41,
     "metadata": {},
     "output_type": "execute_result"
    }
   ],
   "source": [
    "#Target variable is highly imbalanced\n",
    "#Defaulters are very less (Class 1)\n",
    "Train['m13'].value_counts()"
   ]
  },
  {
   "cell_type": "code",
   "execution_count": 42,
   "metadata": {},
   "outputs": [
    {
     "data": {
      "text/plain": [
       "Text(0, 0.5, 'Frequency')"
      ]
     },
     "execution_count": 42,
     "metadata": {},
     "output_type": "execute_result"
    },
    {
     "data": {
      "image/png": "[encoded data removed]",
      "text/plain": [
       "<Figure size 432x288 with 1 Axes>"
      ]
     },
     "metadata": {
      "needs_background": "light"
     },
     "output_type": "display_data"
    }
   ],
   "source": [
    "train['m13'].value_counts().plot.bar()\n",
    "plt.title('Regular Payees Vs Delinquency Distribution')\n",
    "plt.xlabel('Class')\n",
    "plt.ylabel('Frequency')"
   ]
  },
  {
   "cell_type": "code",
   "execution_count": 43,
   "metadata": {},
   "outputs": [],
   "source": [
    "Y=Train['m13']\n",
    "X=Train.drop(['m13'],axis=1,inplace=False)"
   ]
  },
  {
   "cell_type": "code",
   "execution_count": 44,
   "metadata": {},
   "outputs": [],
   "source": [
    "# train/valid data split in 70/30 ratio\n",
    "from imblearn.over_sampling import SMOTE\n",
    "from sklearn.model_selection import train_test_split"
   ]
  },
  {
   "cell_type": "code",
   "execution_count": 45,
   "metadata": {},
   "outputs": [
    {
     "name": "stdout",
     "output_type": "stream",
     "text": [
      "Before Oversmapling count of label 1 : 624\n",
      "Before oversampling count of label 0 : 115069\n"
     ]
    }
   ],
   "source": [
    "print('Before Oversmapling count of label 1 : {}'.format(sum(Y==1)))\n",
    "print('Before oversampling count of label 0 : {}'.format(sum(Y==0)))"
   ]
  },
  {
   "cell_type": "code",
   "execution_count": 46,
   "metadata": {},
   "outputs": [],
   "source": [
    "sm = SMOTE(random_state=2)\n",
    "X_res, Y_res = sm.fit_sample(X, Y.ravel())"
   ]
  },
  {
   "cell_type": "code",
   "execution_count": 47,
   "metadata": {},
   "outputs": [
    {
     "name": "stdout",
     "output_type": "stream",
     "text": [
      "After Oversmapling shape of X : (230138, 6)\n",
      "After oversampling shape of Y : (230138,)\n"
     ]
    }
   ],
   "source": [
    "print('After Oversmapling shape of X : {}'.format(X_res.shape))\n",
    "print('After oversampling shape of Y : {}'.format(Y_res.shape))"
   ]
  },
  {
   "cell_type": "code",
   "execution_count": 48,
   "metadata": {},
   "outputs": [
    {
     "name": "stdout",
     "output_type": "stream",
     "text": [
      "After Oversmapling count of label 1 : 115069\n",
      "After oversampling count of label 0 : 115069\n"
     ]
    }
   ],
   "source": [
    "print('After Oversmapling count of label 1 : {}'.format(sum(Y_res==1)))\n",
    "print('After oversampling count of label 0 : {}'.format(sum(Y_res==0)))"
   ]
  },
  {
   "cell_type": "code",
   "execution_count": 49,
   "metadata": {},
   "outputs": [],
   "source": [
    "x_train,x_valid,y_train,y_valid = train_test_split(X_res,Y_res, test_size=0.3,random_state=5)"
   ]
  },
  {
   "cell_type": "code",
   "execution_count": 50,
   "metadata": {},
   "outputs": [
    {
     "data": {
      "text/plain": [
       "(161096,)"
      ]
     },
     "execution_count": 50,
     "metadata": {},
     "output_type": "execute_result"
    }
   ],
   "source": [
    "x_train.shape\n",
    "#(161096, 41)\n",
    "y_train.shape"
   ]
  },
  {
   "cell_type": "code",
   "execution_count": 51,
   "metadata": {},
   "outputs": [
    {
     "data": {
      "text/plain": [
       "(69042,)"
      ]
     },
     "execution_count": 51,
     "metadata": {},
     "output_type": "execute_result"
    }
   ],
   "source": [
    "x_valid.shape\n",
    "#(69042, 41)\n",
    "y_valid.shape"
   ]
  },
  {
   "cell_type": "code",
   "execution_count": 52,
   "metadata": {},
   "outputs": [
    {
     "data": {
      "text/plain": [
       "RandomForestClassifier(bootstrap=True, class_weight=None, criterion='gini',\n",
       "                       max_depth=2, max_features='auto', max_leaf_nodes=None,\n",
       "                       min_impurity_decrease=0.0, min_impurity_split=None,\n",
       "                       min_samples_leaf=1, min_samples_split=2,\n",
       "                       min_weight_fraction_leaf=0.0, n_estimators=1000,\n",
       "                       n_jobs=None, oob_score=False, random_state=100,\n",
       "                       verbose=0, warm_start=False)"
      ]
     },
     "execution_count": 52,
     "metadata": {},
     "output_type": "execute_result"
    }
   ],
   "source": [
    "rfc= RandomForestClassifier(n_estimators=1000, max_depth=2,random_state=100)\n",
    "#clf = GridSearchCV(rfc, parameters, cv=5, verbose=5, n_jobs=3)\n",
    "rfc.fit(x_train, y_train.ravel())"
   ]
  },
  {
   "cell_type": "code",
   "execution_count": 53,
   "metadata": {},
   "outputs": [],
   "source": [
    "y_pred1 = rfc.predict(x_valid)"
   ]
  },
  {
   "cell_type": "code",
   "execution_count": 54,
   "metadata": {},
   "outputs": [],
   "source": [
    "f2_scores = f1_score(y_valid, y_pred1)"
   ]
  },
  {
   "cell_type": "code",
   "execution_count": 55,
   "metadata": {},
   "outputs": [
    {
     "data": {
      "text/plain": [
       "0.8365820603342982"
      ]
     },
     "execution_count": 55,
     "metadata": {},
     "output_type": "execute_result"
    }
   ],
   "source": [
    "f2_scores"
   ]
  },
  {
   "cell_type": "code",
   "execution_count": 57,
   "metadata": {},
   "outputs": [],
   "source": [
    "cnf_matrix = confusion_matrix(y_valid, y_pred1)"
   ]
  },
  {
   "cell_type": "code",
   "execution_count": 58,
   "metadata": {},
   "outputs": [
    {
     "data": {
      "text/plain": [
       "array([[34275,   160],\n",
       "       [ 9607, 25000]], dtype=int64)"
      ]
     },
     "execution_count": 58,
     "metadata": {},
     "output_type": "execute_result"
    }
   ],
   "source": [
    "cnf_matrix"
   ]
  },
  {
   "cell_type": "code",
   "execution_count": 59,
   "metadata": {},
   "outputs": [
    {
     "name": "stdout",
     "output_type": "stream",
     "text": [
      "              precision    recall  f1-score   support\n",
      "\n",
      "           0       0.78      1.00      0.88     34435\n",
      "           1       0.99      0.72      0.84     34607\n",
      "\n",
      "    accuracy                           0.86     69042\n",
      "   macro avg       0.89      0.86      0.86     69042\n",
      "weighted avg       0.89      0.86      0.86     69042\n",
      "\n"
     ]
    }
   ],
   "source": [
    "print(classification_report(y_valid,y_pred1))"
   ]
  },
  {
   "cell_type": "code",
   "execution_count": 150,
   "metadata": {},
   "outputs": [],
   "source": [
    "#Using K-Fold CV to avoid overfitting of model\n",
    "#parameters = {'C': np.linspace(1, 10, 10)}\n",
    "#lr = LogisticRegression()\n",
    "#clf = GridSearchCV(lr, parameters, cv=5, verbose=5, n_jobs=3)\n",
    "#clf.fit(x_train, y_train.ravel())"
   ]
  },
  {
   "cell_type": "code",
   "execution_count": 151,
   "metadata": {},
   "outputs": [],
   "source": [
    "#clf.best_params_"
   ]
  },
  {
   "cell_type": "code",
   "execution_count": 152,
   "metadata": {},
   "outputs": [],
   "source": [
    "#lr1 = LogisticRegression(C=1,penalty='l1', verbose=5)\n",
    "#lr1.fit(x_train, y_train.ravel())"
   ]
  },
  {
   "cell_type": "code",
   "execution_count": 60,
   "metadata": {},
   "outputs": [],
   "source": [
    "test['interest_rate'] = (test['interest_rate']-test['interest_rate'].mean())/test['interest_rate'].std(ddof=0)\n",
    "#test['unpaid_principal_bal_zscore'] = (test['unpaid_principal_bal']-test['unpaid_principal_bal'].mean())/test['unpaid_principal_bal'].std(ddof=0)\n",
    "test['loan_term'] = (test['loan_term']-test['loan_term'].mean())/test['loan_term'].std(ddof=0)\n",
    "#test['loan_to_value_zscore'] = (test['loan_to_value']-test['loan_to_value'].mean())/test['loan_to_value'].std(ddof=0)\n",
    "#test['number_of_borrowers_zscore'] = (test['number_of_borrowers']-test['number_of_borrowers'].mean())/test['number_of_borrowers'].std(ddof=0)\n",
    "#test['debt_to_income_ratio_zscore'] = (test['debt_to_income_ratio']-test['debt_to_income_ratio'].mean())/test['debt_to_income_ratio'].std(ddof=0)\n",
    "test['borrower_credit_score'] = (test['borrower_credit_score']-test['borrower_credit_score'].mean())/test['borrower_credit_score'].std(ddof=0)\n",
    "#test['co-borrower_credit_score_zscore'] = (test['co-borrower_credit_score']-test['co-borrower_credit_score'].mean())/test['co-borrower_credit_score'].std(ddof=0)"
   ]
  },
  {
   "cell_type": "code",
   "execution_count": 61,
   "metadata": {},
   "outputs": [],
   "source": [
    "test.columns\n",
    "x_test=test[['m9','m11','m12','interest_rate','loan_term','borrower_credit_score']]\n"
   ]
  },
  {
   "cell_type": "code",
   "execution_count": 62,
   "metadata": {},
   "outputs": [],
   "source": [
    "#Final Prediction\n",
    "y1 = rfc.predict(x_test)\n"
   ]
  },
  {
   "cell_type": "code",
   "execution_count": 63,
   "metadata": {},
   "outputs": [],
   "source": [
    "df1 = pd.DataFrame(y1,columns = ['m13'])\n",
    "\n",
    "\n",
    "df1['loan_id']=test['loan_id']\n",
    "\n",
    "\n",
    "df1 = df1[['loan_id','m13']]\n",
    "\n",
    "\n",
    "df1.set_index(['loan_id'],inplace=True)\n"
   ]
  },
  {
   "cell_type": "code",
   "execution_count": 64,
   "metadata": {},
   "outputs": [
    {
     "data": {
      "text/plain": [
       "0    35669\n",
       "1      197\n",
       "Name: m13, dtype: int64"
      ]
     },
     "execution_count": 64,
     "metadata": {},
     "output_type": "execute_result"
    }
   ],
   "source": [
    "df1['m13'].value_counts()"
   ]
  },
  {
   "cell_type": "code",
   "execution_count": 65,
   "metadata": {},
   "outputs": [],
   "source": [
    "#Creating the csv\n",
    "df1.to_csv('Test_rfc1_predict.csv')"
   ]
  },
  {
   "cell_type": "code",
   "execution_count": 149,
   "metadata": {},
   "outputs": [],
   "source": []
  },
  {
   "cell_type": "code",
   "execution_count": null,
   "metadata": {},
   "outputs": [],
   "source": []
  }
 ],
 "metadata": {
  "kernelspec": {
   "display_name": "Python 3",
   "language": "python",
   "name": "python3"
  },
  "language_info": {
   "codemirror_mode": {
    "name": "ipython",
    "version": 3
   },
   "file_extension": ".py",
   "mimetype": "text/x-python",
   "name": "python",
   "nbconvert_exporter": "python",
   "pygments_lexer": "ipython3",
   "version": "3.6.7"
  }
 },
 "nbformat": 4,
 "nbformat_minor": 2
}
